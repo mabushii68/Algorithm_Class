{
 "cells": [
  {
   "cell_type": "markdown",
   "id": "96a5cc5e-2770-4d71-a281-90470c9e76e0",
   "metadata": {},
   "source": [
    "# **1. 다양한 점화식 분석 방법에 대해 조사하기 (종류, 설명, 예제코드)**"
   ]
  },
  {
   "cell_type": "markdown",
   "id": "233de173-4b47-4a8c-941e-9bea97e6a6de",
   "metadata": {},
   "source": [
    "## **점화식 분석 방법**\n",
    "#### **Iterative Method**\n",
    "- 설명 : 반복적으로 식을 전개하여 일반항을 유추하는 방법으로, 주로 간단한 형태의 점화식에 적합하다.\n",
    "- 예시 점화식 : T(n) = T(n−1)+3, T(1) = 2\n",
    "<br>\n",
    "예제 코드 ↓"
   ]
  },
  {
   "cell_type": "code",
   "execution_count": 39,
   "id": "f48200ef-1d8d-458a-94f1-e469a3cc4a74",
   "metadata": {},
   "outputs": [
    {
     "name": "stdout",
     "output_type": "stream",
     "text": [
      "14\n"
     ]
    }
   ],
   "source": [
    "def iterative_method(n):\n",
    "    T = 2  # T(1)의 초기값\n",
    "    for i in range(2, n+1):\n",
    "        T = T + 3\n",
    "    return T\n",
    "\n",
    "print(iterative_method(5))  # 출력: 14"
   ]
  },
  {
   "cell_type": "markdown",
   "id": "34772baf-0cfd-4cea-bd5c-58077a3b6164",
   "metadata": {},
   "source": [
    "#### **Recursive Method**\n",
    "- 설명 : 점화식을 그대로 재귀적인 형태로 구현하는 방법이다.\n",
    "- 예시 점화식 : F(n) = F(n−1) + F(n−2), F(1) = 1, F(2) = 1\n",
    "<br>\n",
    "예제 코드 ↓"
   ]
  },
  {
   "cell_type": "code",
   "execution_count": 37,
   "id": "5fc39f76-5fcf-4f32-bb54-fe07248cdcfb",
   "metadata": {},
   "outputs": [
    {
     "name": "stdout",
     "output_type": "stream",
     "text": [
      "8\n"
     ]
    }
   ],
   "source": [
    "def recursive_method(n):\n",
    "    if n == 1 or n == 2:\n",
    "        return 1\n",
    "    return recursive_method(n-1) + recursive_method(n-2)\n",
    "\n",
    "print(recursive_method(6))  # 출력: 8"
   ]
  },
  {
   "cell_type": "markdown",
   "id": "e23c8bc4-f1bc-4200-adf9-692ccb1f7467",
   "metadata": {},
   "source": [
    "#### **Dynamic Programming**\n",
    "- 설명 : 하위 문제의 결과를 저장해가며 상향식(Bottom-up)으로 문제를 해결하는 방식이다.\n",
    "- F(n) = F(n−1) + F(n−2), F(1 = 1 , F(2) = 1\n",
    "<br>\n",
    "예제 코드 ↓"
   ]
  },
  {
   "cell_type": "code",
   "execution_count": 50,
   "id": "13adfc55-d7e3-4c25-b369-3c38a64fc041",
   "metadata": {},
   "outputs": [
    {
     "name": "stdout",
     "output_type": "stream",
     "text": [
      "12586269025\n"
     ]
    }
   ],
   "source": [
    "def dynamic_programming_method(n):\n",
    "    dp = [0] * (n+1)\n",
    "    dp[1], dp[2] = 1, 1\n",
    "\n",
    "    for i in range(3, n+1):\n",
    "        dp[i] = dp[i-1] + dp[i-2]\n",
    "\n",
    "    return dp[n]\n",
    "\n",
    "print(dynamic_programming_method(50))  # 출력: 12586269025"
   ]
  },
  {
   "cell_type": "markdown",
   "id": "ed36f247-b03e-438a-9f5e-f9f551998eb1",
   "metadata": {},
   "source": [
    "#### **Characteristic Equation Method**\n",
    "- 설명 : 선형 점화식의 경우, 특성 방정식을 세워 해를 구하는 수학적 방법이다.\n",
    "- T(n) = 2T(n−1) + 3T(n−2), T(0) = 1, T(1) = 2\n",
    "<br>\n",
    "예제 코드 ↓"
   ]
  },
  {
   "cell_type": "code",
   "execution_count": 54,
   "id": "acc50099-9548-45c8-9099-47e9cdfcb34f",
   "metadata": {},
   "outputs": [
    {
     "name": "stdout",
     "output_type": "stream",
     "text": [
      "182.0\n"
     ]
    }
   ],
   "source": [
    "def characteristic_method(n):\n",
    "    # 주어진 초기값으로 연립방정식 풀기\n",
    "    # T(0)=a+b=1, T(1)=3a-b=2\n",
    "    # 연립방정식 풀이로 a=0.75, b=0.25\n",
    "    a, b = 0.75, 0.25\n",
    "    return a * (3 ** n) + b * ((-1) ** n)\n",
    "\n",
    "print(characteristic_method(5))  # 출력: 182.0"
   ]
  },
  {
   "cell_type": "markdown",
   "id": "36051c1e-aa4c-42b8-947a-62d8877fb520",
   "metadata": {},
   "source": [
    "# **2. 연산 유형별 점화식 조사하기 (유형, 점화식, 빅오표기법, 예제코드)**"
   ]
  },
  {
   "cell_type": "markdown",
   "id": "e2a5782c-29b6-4a50-ae15-7e0d36b5d585",
   "metadata": {},
   "source": [
    "## **연산 유형별 점화식**\n",
    "#### **Polynomial**\n",
    "- 설명 : 입력 크기의 다항식에 비례하여 증가하는 연산\n",
    "- 예시 점화식 : T(n) = T(n−1) + O(n), T(1) = c\n",
    "- 빅오 표기법 : O(n^2), O(n^3), ..., O(n^k)\n",
    "<br>\n",
    "예제 코드 ↓"
   ]
  },
  {
   "cell_type": "code",
   "execution_count": 70,
   "id": "2e758ca2-8ea4-409c-9313-125efacff748",
   "metadata": {},
   "outputs": [
    {
     "name": "stdout",
     "output_type": "stream",
     "text": [
      "25\n"
     ]
    }
   ],
   "source": [
    "def polynomial_op(n):\n",
    "    count = 0\n",
    "    for i in range(n):\n",
    "        for j in range(n):\n",
    "            count += 1  # n^2의 다항 시간 소요\n",
    "    return count\n",
    "\n",
    "print(polynomial_op(5))  # 출력: 25"
   ]
  },
  {
   "cell_type": "markdown",
   "id": "90d46693-79b0-4145-90a2-6ca5a123e71f",
   "metadata": {},
   "source": [
    "#### **Linearithmic**\n",
    "- 설명 : 선형과 로그 연산이 합쳐진 형태로, 분할된 문제를 정복 후 다시 병합할 때 발생하는 연산\n",
    "- 예시 점화식 : T(n) = 2T(n/2) + O(n), T(1) = c\n",
    "- 빅오 표기법 : O(n logn)\n",
    "<br>\n",
    "예제 코드 ↓"
   ]
  },
  {
   "cell_type": "code",
   "execution_count": 74,
   "id": "81793731-ac31-4ac3-9fdd-5a107802b5d3",
   "metadata": {},
   "outputs": [
    {
     "name": "stdout",
     "output_type": "stream",
     "text": [
      "[1, 3, 4, 7, 8]\n"
     ]
    }
   ],
   "source": [
    "import heapq\n",
    "\n",
    "def heapsort(arr):\n",
    "    heapq.heapify(arr)\n",
    "    return [heapq.heappop(arr) for _ in range(len(arr))]\n",
    "\n",
    "print(heapsort([4, 1, 7, 3, 8]))  # 출력: [1, 3, 4, 7, 8]"
   ]
  },
  {
   "cell_type": "markdown",
   "id": "6eb2c026-0105-4f81-89a2-d47bbbcde265",
   "metadata": {},
   "source": [
    "#### **Factorial**\n",
    "- 설명 : 팩토리얼 형태로 문제의 크기가 급격히 증가하는 연산\n",
    "- 예시 점화식 : T(n) = n*T(n−1), T(1) = c\n",
    "- 빅오 표기법 : O(n!)\n",
    "<br>\n",
    "예제 코드 ↓"
   ]
  },
  {
   "cell_type": "code",
   "execution_count": 82,
   "id": "58d00530-bf3c-4ba1-96cb-d3486c7a2668",
   "metadata": {},
   "outputs": [
    {
     "name": "stdout",
     "output_type": "stream",
     "text": [
      "[(1, 2, 3), (1, 3, 2), (2, 1, 3), (2, 3, 1), (3, 1, 2), (3, 2, 1)]\n"
     ]
    }
   ],
   "source": [
    "from itertools import permutations\n",
    "\n",
    "def factorial_op(arr):\n",
    "    return list(permutations(arr))\n",
    "\n",
    "print(factorial_op([1, 2, 3]))\n",
    "# 출력: [(1,2,3), (1,3,2), (2,1,3), (2,3,1), (3,1,2), (3,2,1)]"
   ]
  },
  {
   "cell_type": "markdown",
   "id": "88d742b9-c6b5-41a4-a791-1714a9ba0b96",
   "metadata": {},
   "source": [
    "#### **Square root**\n",
    "- 설명 : 제곱근(√n) 만큼 반복적으로 문제를 접근하는 방식.\n",
    "- 예시 점화식 : T(n) = T(n^1/2) + O(1), T(2) = c\n",
    "- 빅오 표기법 : O(loglogn) or O(n^1/2)\n",
    "<br>\n",
    "예제 코드 ↓"
   ]
  },
  {
   "cell_type": "code",
   "execution_count": 86,
   "id": "4d28baba-76c0-43ae-bec9-c53265810b40",
   "metadata": {},
   "outputs": [
    {
     "name": "stdout",
     "output_type": "stream",
     "text": [
      "True\n"
     ]
    }
   ],
   "source": [
    "import math\n",
    "\n",
    "def sqrt_op(n):\n",
    "    if n < 2:\n",
    "        return False\n",
    "    for i in range(2, int(math.sqrt(n)) + 1):\n",
    "        if n % i == 0:\n",
    "            return False\n",
    "    return True\n",
    "\n",
    "print(sqrt_op(17))  # 출력: True"
   ]
  },
  {
   "cell_type": "markdown",
   "id": "57546256-c129-4ec4-99a2-ea8591b32c27",
   "metadata": {},
   "source": [
    "#### **Double Logarithmic**\n",
    "- 설명 : 문제 크기가 매 단계마다 지수적으로 감소하는 매우 효율적인 연산 유형.\n",
    "- 예시 점화식 : T(n) = T(n^1/2) + O(1), T(2) = c\n",
    "- 빅오 표기법 : O(loglogn)\n",
    "<br>\n",
    "예제 코드 ↓"
   ]
  },
  {
   "cell_type": "code",
   "execution_count": 92,
   "id": "6c37071b-69d6-44dd-9673-907dbcace636",
   "metadata": {},
   "outputs": [
    {
     "name": "stdout",
     "output_type": "stream",
     "text": [
      "3\n"
     ]
    }
   ],
   "source": [
    "import math\n",
    "\n",
    "def double_log_op(n):\n",
    "    count = 0\n",
    "    while n > 2:\n",
    "        n = math.sqrt(n)\n",
    "        count += 1\n",
    "    return count\n",
    "\n",
    "print(double_log_op(256))  # 출력: 3 (256→16→4→2)"
   ]
  }
 ],
 "metadata": {
  "kernelspec": {
   "display_name": "Python [conda env:base] *",
   "language": "python",
   "name": "conda-base-py"
  },
  "language_info": {
   "codemirror_mode": {
    "name": "ipython",
    "version": 3
   },
   "file_extension": ".py",
   "mimetype": "text/x-python",
   "name": "python",
   "nbconvert_exporter": "python",
   "pygments_lexer": "ipython3",
   "version": "3.12.7"
  }
 },
 "nbformat": 4,
 "nbformat_minor": 5
}
