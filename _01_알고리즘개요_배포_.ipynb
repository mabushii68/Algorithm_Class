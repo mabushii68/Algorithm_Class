{
  "nbformat": 4,
  "nbformat_minor": 0,
  "metadata": {
    "colab": {
      "provenance": []
    },
    "kernelspec": {
      "name": "python3",
      "display_name": "Python 3"
    },
    "language_info": {
      "name": "python"
    }
  },
  "cells": [
    {
      "cell_type": "markdown",
      "source": [
        "# 알고리즘 개요"
      ],
      "metadata": {
        "id": "N6FNqj2c1yBL"
      }
    },
    {
      "cell_type": "markdown",
      "source": [
        "\n",
        "\n",
        "---\n",
        "\n"
      ],
      "metadata": {
        "id": "LhvO_-dc-D-4"
      }
    },
    {
      "cell_type": "markdown",
      "source": [
        "# 1.알고리즘이란?"
      ],
      "metadata": {
        "id": "-wuIGjaL9LFb"
      }
    },
    {
      "cell_type": "markdown",
      "source": [
        "## 알고리즘 성능 분석\n",
        "- **연산량**： 알고리즘이 얼마나 적은 연산을 수행하는가?\n",
        "- **메모리 사용량**： 얼마나 적은 메모리 공간을 사용하는가?"
      ],
      "metadata": {
        "id": "8soCOUQx9q-7"
      }
    },
    {
      "cell_type": "markdown",
      "source": [
        "### @연산량 확인 방법"
      ],
      "metadata": {
        "id": "o4iJLuE19yyK"
      }
    },
    {
      "cell_type": "markdown",
      "source": [
        "|연산량 확인 방법|설명|주요 도구|\n",
        "|----|----|----|\n",
        "|연산 횟수 직접 카운팅 |특정 코드에서 연산 횟수를 직접 세어 연산량을 측정 | 변수 사용 (count += 1)|\n",
        "|Big-O 분석을 위한 타이머 활용 | 실행 시간을 여러 입력 크기에 대해 측정하여 시간 복잡도 분석 | time 모듈 (time.time()) |\n",
        "|프로파일링 도구 활용 | 함수 실행 횟수, 실행 시간 분석 | cProfile, line-profiler |\n",
        "|CPU 사용량 확인 |연산량이 CPU 사용률에 미치는 영향 분석 | psutil.cpu_percent() |\n",
        "\n"
      ],
      "metadata": {
        "id": "R27ikXIRpRXo"
      }
    },
    {
      "cell_type": "markdown",
      "source": [
        "#### 1.연산 횟수 직접 카운팅\n",
        "알고리즘 내에서 수행되는 주요 연산(반복문, 재귀 호출, 비교 연산 등)의 횟수 센다.</br>**(전역 변수 or 데코레이터 활용)**"
      ],
      "metadata": {
        "id": "VZLhE4DjBJEe"
      }
    },
    {
      "cell_type": "code",
      "source": [
        "# 버블 정렬의 연산 횟수 측정\n",
        "import random\n",
        "\n",
        "count = 0  # 연산 횟수 카운트\n",
        "\n",
        "def bubble_sort(arr):\n",
        "    global count\n",
        "    n = len(arr)\n",
        "    for i in range(n):\n",
        "        for j in range(0, n-i-1):\n",
        "            count += 1  # 비교 연산 횟수 증가\n",
        "            if arr[j] > arr[j+1]:\n",
        "                arr[j], arr[j+1] = arr[j+1], arr[j]\n",
        "\n",
        "arr = [random.randint(0, 100) for _ in range(10)]\n",
        "print(arr)\n",
        "bubble_sort(arr)\n",
        "print(f\"Total Operations: {count}\")"
      ],
      "metadata": {
        "id": "8TKngIYd-Auv"
      },
      "execution_count": null,
      "outputs": []
    },
    {
      "cell_type": "markdown",
      "source": [
        "#### 2.Big-O 분석을 위한 타이머 활용\n",
        "정렬 알고리즘의 실행 시간을 여러 크기의 입력에서 측정하여 Big-O 복잡도(O(n²), O(n log n) 등)를 분석할 수 있다."
      ],
      "metadata": {
        "id": "7yxGDwoFALSa"
      }
    },
    {
      "cell_type": "code",
      "source": [
        "# 정렬 알고리즘의 시간 복잡도 비교\n",
        "import time\n",
        "import random\n",
        "\n",
        "def measure_time(sort_function, size):\n",
        "    arr = [random.randint(0, 10000) for _ in range(size)]\n",
        "    start = time.time()  # 시간 측정 시작\n",
        "    sort_function(arr)\n",
        "    end = time.time()    # 시간 측정 종료\n",
        "    return end - start\n",
        "\n",
        "sizes = [100, 500, 1000, 5000]\n",
        "for size in sizes:\n",
        "    print(f\"Size {size}: Bubble Sort = {measure_time(bubble_sort, size):.6f} sec\")\n"
      ],
      "metadata": {
        "id": "HD4Liw-p-BKa"
      },
      "execution_count": null,
      "outputs": []
    },
    {
      "cell_type": "markdown",
      "source": [
        "- 그래프로 표현"
      ],
      "metadata": {
        "id": "VXfool1yKt8C"
      }
    },
    {
      "cell_type": "code",
      "source": [
        "import time\n",
        "import random\n",
        "import matplotlib.pyplot as plt\n",
        "\n",
        "def measure_time(sort_function, sizes):\n",
        "    times = []\n",
        "    for size in sizes:\n",
        "        arr = [random.randint(0, 10000) for _ in range(size)]\n",
        "        start = time.time()\n",
        "        sort_function(arr)\n",
        "        end = time.time()\n",
        "        times.append(end - start)\n",
        "    return times\n",
        "\n",
        "sizes = [100, 500, 1000, 5000]\n",
        "bubble_times = measure_time(bubble_sort, sizes)\n",
        "plt.plot(sizes, bubble_times, label=\"Bubble Sort\", marker='o')\n",
        "plt.xlabel(\"Input Size\")\n",
        "plt.ylabel(\"Execution Time (seconds)\")\n",
        "plt.legend()\n",
        "plt.title(\"Algorithm Complexity Analysis\")\n",
        "plt.show()\n"
      ],
      "metadata": {
        "id": "tQuahsd3KpQE"
      },
      "execution_count": null,
      "outputs": []
    },
    {
      "cell_type": "markdown",
      "source": [
        "#### 3.프로파일링 도구 활용\n",
        "cProfile: 각 함수가 몇 번 호출되었는지와 실행 시간을 출력해 준다."
      ],
      "metadata": {
        "id": "ikJENMqa9958"
      }
    },
    {
      "cell_type": "code",
      "source": [
        "# cProfile을 이용한 함수 호출 수 측정\n",
        "import cProfile\n",
        "\n",
        "def test_function():\n",
        "    total = 0\n",
        "    for i in range(1000000):\n",
        "        total += i\n",
        "    return total\n",
        "\n",
        "cProfile.run('test_function()')\n"
      ],
      "metadata": {
        "id": "PjRVtMxCI8Ik"
      },
      "execution_count": null,
      "outputs": []
    },
    {
      "cell_type": "markdown",
      "source": [
        "- line_profiler: 코드 라인별 연산량 확인"
      ],
      "metadata": {
        "id": "Y8VO7NphN8TW"
      }
    },
    {
      "cell_type": "code",
      "source": [
        "!pip install line-profiler"
      ],
      "metadata": {
        "id": "uwR71iaQN7UL"
      },
      "execution_count": null,
      "outputs": []
    },
    {
      "cell_type": "code",
      "source": [
        "from line_profiler import LineProfiler\n",
        "\n",
        "def test_function():\n",
        "    total = 0\n",
        "    for i in range(1000000):  # 연산량이 많은 부분\n",
        "        total += i\n",
        "    return total\n",
        "\n",
        "lp = LineProfiler()\n",
        "lp.add_function(test_function)\n",
        "\n",
        "lp.enable()   # LineProfiler: 시작\n",
        "test_function()\n",
        "lp.disable()  # LineProfiler: 종료\n",
        "\n",
        "lp.print_stats()\n"
      ],
      "metadata": {
        "id": "p_cqYc9sN3ns"
      },
      "execution_count": null,
      "outputs": []
    },
    {
      "cell_type": "markdown",
      "source": [
        "#### 4.CPU 사용량 확인"
      ],
      "metadata": {
        "id": "5hnDP542Sw4K"
      }
    },
    {
      "cell_type": "code",
      "source": [
        "import psutil\n",
        "import time\n",
        "\n",
        "def test_function():\n",
        "    total = 0\n",
        "    for i in range(1000000):\n",
        "        total += i\n",
        "    return total\n",
        "\n",
        "# CPU 및 메모리 사용량 측정\n",
        "process = psutil.Process()\n",
        "start_cpu = process.cpu_percent(interval=None)\n",
        "\n",
        "start_time = time.time()\n",
        "test_function()\n",
        "end_time = time.time()\n",
        "\n",
        "end_cpu = process.cpu_percent(interval=None)\n",
        "\n",
        "print(f\"Execution Time: {end_time - start_time:.6f} seconds\")\n",
        "print(f\"CPU Usage: {end_cpu:.2f}%\")\n"
      ],
      "metadata": {
        "id": "FG8UNFMmSxDy"
      },
      "execution_count": null,
      "outputs": []
    },
    {
      "cell_type": "markdown",
      "source": [
        "### [실습문제] 정렬 알고리즘 시간 성능 분석\n",
        "- bubble_sort, merge_sort, builtin_sort  사용\n",
        "- sizes =  [100, 500, 1000, 5000, 10000] 임의의 정수 사용\n",
        "- 각 알고리즘의 실행 시간(time) 측정하여 하나의 그래프에 시각화하기"
      ],
      "metadata": {
        "id": "0kAgdZjVH1MA"
      }
    },
    {
      "cell_type": "code",
      "source": [
        "# 버블 정렬 (느림)\n",
        "def bubble_sort(arr):\n",
        "    n = len(arr)\n",
        "    for i in range(n):\n",
        "        for j in range(0, n-i-1):\n",
        "            if arr[j] > arr[j+1]:\n",
        "                arr[j], arr[j+1] = arr[j+1], arr[j]\n",
        "\n",
        "# 병합 정렬 (중간)\n",
        "def merge_sort(arr):\n",
        "    if len(arr) > 1:\n",
        "        mid = len(arr) // 2\n",
        "        L, R = arr[:mid], arr[mid:]\n",
        "        merge_sort(L)\n",
        "        merge_sort(R)\n",
        "        i = j = k = 0\n",
        "        while i < len(L) and j < len(R):\n",
        "            if L[i] < R[j]:\n",
        "                arr[k] = L[i]\n",
        "                i += 1\n",
        "            else:\n",
        "                arr[k] = R[j]\n",
        "                j += 1\n",
        "            k += 1\n",
        "        while i < len(L):\n",
        "            arr[k] = L[i]\n",
        "            i += 1\n",
        "            k += 1\n",
        "        while j < len(R):\n",
        "            arr[k] = R[j]\n",
        "            j += 1\n",
        "            k += 1\n",
        "\n",
        "# 파이썬 내장 정렬 (빠름)\n",
        "def builtin_sort(arr):\n",
        "    arr.sort()\n"
      ],
      "metadata": {
        "id": "474QRi6BCOd4"
      },
      "execution_count": null,
      "outputs": []
    },
    {
      "cell_type": "code",
      "source": [
        "\n",
        "\n",
        "\n"
      ],
      "metadata": {
        "id": "FIp4q--J-N16"
      },
      "execution_count": null,
      "outputs": []
    },
    {
      "cell_type": "markdown",
      "source": [
        "\n",
        "\n",
        "---\n",
        "\n"
      ],
      "metadata": {
        "id": "uMNchdPZt6qY"
      }
    },
    {
      "cell_type": "markdown",
      "source": [
        "### @메모리 사용량 확인 방법"
      ],
      "metadata": {
        "id": "X1uN7Uf7ROUU"
      }
    },
    {
      "cell_type": "markdown",
      "source": [
        "\n",
        " |메모리 사용량 확인 방법 | 설명 | 주요 도구 |\n",
        " |--------- |---------- |----- |\n",
        "|(전체 프로세스)메모리 사용량 측정 | 현재 실행 중인 프로세스가 사용하는 전체 메모리 크기 확인  | psutil.memory_info()  |\n",
        "|(코드 라인별)메모리 사용량 측정 | 특정 코드 라인에서 사용된 메모리 크기를 분석하여 가장 많은 메모리를 차지하는 부분 확인 |memory_profiler |\n",
        "|메모리 사용량 추적 | 프로그램 실행 중 메모리 변화량을 추적하여 메모리 증가 여부 분석 |tracemalloc |\n",
        "|Garbage Collector 메모리 수거 확인|Python이 자동으로 해제하지 않은 메모리를 강제로 수거하여 메모리 최적화 확인 |  gc (Garbage Collector)|\n",
        "\n"
      ],
      "metadata": {
        "id": "wqgfgi7acVMP"
      }
    },
    {
      "cell_type": "markdown",
      "source": [
        "#### 1.(전체 프로세스)메모리 사용량 측정"
      ],
      "metadata": {
        "id": "n5AOjP0dRO-o"
      }
    },
    {
      "cell_type": "code",
      "source": [
        "import psutil\n",
        "import time\n",
        "\n",
        "def memory_intensive_function():\n",
        "    data = [i for i in range(10**7)]  # 큰 리스트 생성\n",
        "    return sum(data)\n",
        "\n",
        "# 현재 프로세스의 메모리 사용량 측정\n",
        "# - rss:Resident Set Size, 현재 프로세스가 실제로 물리적 RAM에서 차지하고 있는 메모리 크기\n",
        "process = psutil.Process()\n",
        "start_memory = process.memory_info().rss / (1024 * 1024)  # MB 단위\n",
        "\n",
        "start_time = time.time()\n",
        "memory_intensive_function()\n",
        "end_time = time.time()\n",
        "\n",
        "end_memory = process.memory_info().rss / (1024 * 1024)  # MB 단위\n",
        "\n",
        "print(f\"Memory Usage Before: {start_memory:.2f} MB\")\n",
        "print(f\"Memory Usage After: {end_memory:.2f} MB\")\n",
        "print(f\"Memory Increased: {end_memory - start_memory:.2f} MB\")\n",
        "print(f\"Execution Time: {end_time - start_time:.6f} sec\")\n"
      ],
      "metadata": {
        "id": "q9mZ_uXyRPGK"
      },
      "execution_count": null,
      "outputs": []
    },
    {
      "cell_type": "markdown",
      "source": [
        "#### 2.(코드 라인별)메모리 사용량 측정"
      ],
      "metadata": {
        "id": "a4sf9kd-pw8W"
      }
    },
    {
      "cell_type": "code",
      "source": [
        "!pip install memory_profiler"
      ],
      "metadata": {
        "id": "0G_C7Jf_q5LE"
      },
      "execution_count": null,
      "outputs": []
    },
    {
      "cell_type": "code",
      "source": [
        "from memory_profiler import memory_usage\n",
        "import time\n",
        "\n",
        "def memory_intensive_function():\n",
        "    data = [i for i in range(10**6)]  # 큰 리스트 생성\n",
        "    total = sum(data)\n",
        "    return total\n",
        "\n",
        "# 메모리 사용량 측정\n",
        "mem_usage, _ = memory_usage((memory_intensive_function, ), interval=0.1, retval=True)\n",
        "print(f\"Peak Memory Usage: {max(mem_usage):.2f} MB\")\n"
      ],
      "metadata": {
        "id": "idzVA1OLrbaL"
      },
      "execution_count": null,
      "outputs": []
    },
    {
      "cell_type": "code",
      "source": [
        "'''\n",
        "이 코드는 코랩에서는 IPython 환경과 호환되지 않아서 오류가 발생함\n",
        "PC 파이썬 인터프리터에서 실행\n",
        "- 각 코드 라인이 얼마나 많은 메모리를 사용하는지 확인 가능\n",
        "'''\n",
        "from memory_profiler import profile\n",
        "\n",
        "@profile\n",
        "def memory_intensive_function():\n",
        "    data = [i for i in range(10**6)]  # 큰 리스트 생성\n",
        "    total = sum(data)\n",
        "    return total\n",
        "\n",
        "memory_intensive_function()\n"
      ],
      "metadata": {
        "id": "acPq8nYcRPKO"
      },
      "execution_count": null,
      "outputs": []
    },
    {
      "cell_type": "markdown",
      "source": [
        "#### 3.메모리 사용량 추적"
      ],
      "metadata": {
        "id": "SXrKDySEpzuA"
      }
    },
    {
      "cell_type": "code",
      "source": [
        "'''\n",
        "메모리 증가량을 추적하고, 프로그램이 가장 많은 메모리를 사용할 때를 확인 가능\n",
        "'''\n",
        "import tracemalloc\n",
        "\n",
        "def memory_intensive_function():\n",
        "    data = [i for i in range(10**6)]  # 큰 리스트 생성\n",
        "    return sum(data)\n",
        "\n",
        "# 메모리 사용량 추적 시작\n",
        "tracemalloc.start()\n",
        "\n",
        "memory_intensive_function()\n",
        "\n",
        "# 메모리 사용량 확인\n",
        "current, peak = tracemalloc.get_traced_memory()\n",
        "print(f\"Current memory usage: {current / (1024 * 1024):.2f} MB\")\n",
        "print(f\"Peak memory usage: {peak / (1024 * 1024):.2f} MB\")\n",
        "\n",
        "# 메모리 추적 종료\n",
        "tracemalloc.stop()\n"
      ],
      "metadata": {
        "id": "cxZZ4EL_p0bO"
      },
      "execution_count": null,
      "outputs": []
    },
    {
      "cell_type": "markdown",
      "source": [
        "#### 4.Garbage Collector 메모리 수거 확인"
      ],
      "metadata": {
        "id": "zmOWMHGtp0kg"
      }
    },
    {
      "cell_type": "code",
      "source": [
        "import gc\n",
        "import psutil\n",
        "\n",
        "def create_large_data():\n",
        "    return [i for i in range(10**6)]  # 큰 리스트 생성\n",
        "\n",
        "process = psutil.Process()\n",
        "print(f\"Memory Before: {process.memory_info().rss / (1024 * 1024):.2f} MB\")\n",
        "\n",
        "data = create_large_data()\n",
        "\n",
        "print(f\"Memory After: {process.memory_info().rss / (1024 * 1024):.2f} MB\")\n",
        "\n",
        "del data  # 메모리 해제\n",
        "gc.collect()  # 가비지 컬렉션 실행\n",
        "\n",
        "print(f\"Memory After GC: {process.memory_info().rss / (1024 * 1024):.2f} MB\")\n"
      ],
      "metadata": {
        "id": "i3FzK4utp0t-"
      },
      "execution_count": null,
      "outputs": []
    },
    {
      "cell_type": "markdown",
      "source": [
        "\n",
        "\n",
        "---\n",
        "\n"
      ],
      "metadata": {
        "id": "pT9bZDC_t3EF"
      }
    },
    {
      "cell_type": "markdown",
      "source": [
        "### [실습문제] 정렬 알고리즘 성능 분석 (시간, 메모리)\n",
        "- bubble_sort, merge_sort, builtin_sort  사용\n",
        "- sizes =  [100, 500, 1000, 5000, 10000] 임의의 정수 사용\n",
        "- 실행 시간(time), 전체 메모리 사용량 측정하여  그래프에 시각화하기"
      ],
      "metadata": {
        "id": "uJD8N1WQJX0C"
      }
    },
    {
      "cell_type": "code",
      "source": [
        "\n",
        "\n",
        "\n",
        "\n",
        "\n",
        "\n"
      ],
      "metadata": {
        "id": "WZw035BbHZM9"
      },
      "execution_count": null,
      "outputs": []
    }
  ]
}